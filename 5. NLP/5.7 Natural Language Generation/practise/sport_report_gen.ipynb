{
 "cells": [
  {
   "cell_type": "code",
   "execution_count": 1,
   "metadata": {
    "collapsed": false,
    "deletable": true,
    "editable": true
   },
   "outputs": [
    {
     "data": {
      "text/plain": [
       "['игрок',\n",
       " 'игрока',\n",
       " 'игроку',\n",
       " 'игрока',\n",
       " 'игроком',\n",
       " 'игроке',\n",
       " 'игроки',\n",
       " 'игроков',\n",
       " 'игрокам',\n",
       " 'игроков',\n",
       " 'игроками',\n",
       " 'игроках',\n",
       " 'игроки',\n",
       " 'игроков',\n",
       " 'игрокам',\n",
       " 'игроков',\n",
       " 'игроками',\n",
       " 'игроках']"
      ]
     },
     "execution_count": 1,
     "metadata": {},
     "output_type": "execute_result"
    }
   ],
   "source": [
    "import pymorphy2\n",
    "\n",
    "morph = pymorphy2.MorphAnalyzer()\n",
    "\n",
    "def generate_forms(word):\n",
    "    p = morph.parse(word)[0]\n",
    "    res = []\n",
    "    lexems = p.lexeme\n",
    "    if 'NOUN' in p.tag:\n",
    "        for i in range(len(lexems)):\n",
    "            res.append(lexems[i][4][0][1])\n",
    "        #print(res)\n",
    "        if 'femn' in p.tag:\n",
    "            res1 = res[:5]\n",
    "            res1.append(res[6])\n",
    "            res1.extend(res[7:])\n",
    "            res1.extend(res1[6:])\n",
    "            return(res1)\n",
    "        else:\n",
    "            res.extend(res[6:])\n",
    "            return(res)\n",
    "    if 'VERB' in p.tag or 'INFN' in p.tag:\n",
    "        for i in [0,1,3,2,4]:\n",
    "            res.append(lexems[i][4][0][1])\n",
    "        return(res)\n",
    "    if 'ADJF' in p.tag:\n",
    "        for i in range(18):\n",
    "            res.append(lexems[i][4][0][1])\n",
    "        return(res)\n",
    "    \n",
    "a = generate_forms('игрок')\n",
    "a"
   ]
  },
  {
   "cell_type": "markdown",
   "metadata": {
    "deletable": true,
    "editable": true
   },
   "source": [
    "## Шаблон 1: игрок забивает гол противнику."
   ]
  },
  {
   "cell_type": "markdown",
   "metadata": {
    "deletable": true,
    "editable": true
   },
   "source": [
    "Задание: обработка имен и названий стран. \n",
    "Например: Акинфеев забил гол Франции."
   ]
  },
  {
   "cell_type": "code",
   "execution_count": 17,
   "metadata": {
    "collapsed": false,
    "deletable": true,
    "editable": true,
    "scrolled": false
   },
   "outputs": [
    {
     "data": {
      "text/plain": [
       "'Игрок забил Франции гол.'"
      ]
     },
     "execution_count": 17,
     "metadata": {},
     "output_type": "execute_result"
    }
   ],
   "source": [
    "from utg import relations as r\n",
    "from utg import logic\n",
    "from utg import data\n",
    "from utg import dictionary\n",
    "from utg import words\n",
    "from utg import templates\n",
    "from utg import constructors\n",
    "\n",
    "# описываем существительное для словаря\n",
    "noun_word = words.Word(type=r.WORD_TYPE.NOUN,\n",
    "                        forms=generate_forms('гол'),\n",
    "                        properties=words.Properties(r.ANIMALITY.INANIMATE, r.GENDER.MASCULINE)) # свойства: неодушевлённое, женский род\n",
    "\n",
    "# описываем глагол для словаря\n",
    "action_word = words.Word(type=r.WORD_TYPE.VERB,\n",
    "                         # описываем только нужны нам формы слова (порядок важен и определён в utg.data.WORDS_CACHES[r.WORD_TYPE.VERB])\n",
    "                         forms=generate_forms('забить') + [u''] * (len(data.WORDS_CACHES[r.WORD_TYPE.VERB]) - 5),\n",
    "                         properties=words.Properties(r.ASPECT.PERFECTIVE, r.VOICE.DIRECT) )\n",
    "\n",
    "\n",
    "# создаём словарь для использования в шаблонах\n",
    "test_dictionary = dictionary.Dictionary(words=[noun_word, action_word])\n",
    "\n",
    "# создаём шаблон\n",
    "template = templates.Template()\n",
    "\n",
    "# externals — внешние переменные, не обязаны быть в словаре\n",
    "template.parse(u'[Obj] [забил|obj|прш] [subj|дт] [гол|вн].', externals=('hero', 'obj'))\n",
    "\n",
    "# описываем внешние переменные\n",
    "subj = words.WordForm(words.Word(type=r.WORD_TYPE.NOUN,\n",
    "                                 forms=generate_forms('противник'),\n",
    "                                 properties=words.Properties(r.ANIMALITY.ANIMATE, r.GENDER.MASCULINE)))\n",
    "\n",
    "obj = words.WordForm(words.Word(type=r.WORD_TYPE.NOUN,\n",
    "                                forms=generate_forms('игрок'),\n",
    "                                 properties=words.Properties(r.ANIMALITY.ANIMATE, r.GENDER.MASCULINE)))\n",
    "\n",
    "\n",
    "# осуществляем подстановку\n",
    "result = template.substitute(externals={'subj': subj,\n",
    "                                        'obj': obj},\n",
    "                             dictionary=test_dictionary)\n",
    "\n",
    "result "
   ]
  },
  {
   "cell_type": "markdown",
   "metadata": {
    "deletable": true,
    "editable": true
   },
   "source": [
    "## Шаблон 2: игрок получает красную карточку."
   ]
  },
  {
   "cell_type": "markdown",
   "metadata": {
    "deletable": true,
    "editable": true
   },
   "source": [
    "Задание: обработка прилагательных\n",
    "Например: красная"
   ]
  },
  {
   "cell_type": "code",
   "execution_count": null,
   "metadata": {
    "collapsed": false,
    "deletable": true,
    "editable": true
   },
   "outputs": [],
   "source": [
    "from utg import relations as r\n",
    "from utg import logic\n",
    "from utg import data\n",
    "from utg import dictionary\n",
    "from utg import words\n",
    "from utg import templates\n",
    "from utg import constructors\n",
    "\n",
    "# описываем существительное для словаря\n",
    "noun_word = words.Word(type=r.WORD_TYPE.NOUN,\n",
    "                        forms=generate_forms('карточка'),\n",
    "                        properties=words.Properties(r.ANIMALITY.INANIMATE, r.GENDER.FEMININE)) # свойства: неодушевлённое, женский род\n",
    "\n",
    "# описываем глагол для словаря\n",
    "action_word = words.Word(type=r.WORD_TYPE.VERB,\n",
    "                         # описываем только нужны нам формы слова (порядок важен и определён в utg.data.WORDS_CACHES[r.WORD_TYPE.VERB])\n",
    "                         forms=generate_forms('вручил') + [u''] * (len(data.WORDS_CACHES[r.WORD_TYPE.VERB]) - 5),\n",
    "                         properties=words.Properties(r.ASPECT.PERFECTIVE, r.VOICE.DIRECT) )\n",
    "\n",
    "\n",
    "# создаём словарь для использования в шаблонах\n",
    "test_dictionary = dictionary.Dictionary(words=[noun_word, action_word])\n",
    "\n",
    "# создаём шаблон\n",
    "template = templates.Template()\n",
    "\n",
    "# externals — внешние переменные, не обязаны быть в словаре\n",
    "template.parse(u'[Obj] [вручил|obj] [subj|дт] [red|card|вн|жр] [card|вн].', externals=('subj', 'obj', 'card', 'red'))\n",
    "\n",
    "# описываем внешние переменные\n",
    "subj = words.WordForm(words.Word(type=r.WORD_TYPE.NOUN,\n",
    "                                 forms=generate_forms('игрок'),\n",
    "                                 properties=words.Properties(r.ANIMALITY.ANIMATE, r.GENDER.MASCULINE)))\n",
    "\n",
    "obj = words.WordForm(words.Word(type=r.WORD_TYPE.NOUN,\n",
    "                                forms=generate_forms('судья'),\n",
    "                                 properties=words.Properties(r.ANIMALITY.ANIMATE, r.GENDER.MASCULINE)))\n",
    "card = words.WordForm(words.Word(type=r.WORD_TYPE.NOUN,\n",
    "                                forms=generate_forms('карточка'),\n",
    "                                 properties=words.Properties(r.ANIMALITY.ANIMATE, r.GENDER.FEMININE)))\n",
    "\n",
    "# осуществляем подстановку\n",
    "result = template.substitute(externals={'subj': subj,\n",
    "                                        'obj': obj,\n",
    "                                       'card':card,\n",
    "                                    'red':red},\n",
    "                             dictionary=test_dictionary)\n",
    "\n",
    "result "
   ]
  }
 ],
 "metadata": {
  "kernelspec": {
   "display_name": "Python 3",
   "language": "python",
   "name": "python3"
  },
  "language_info": {
   "codemirror_mode": {
    "name": "ipython",
    "version": 3
   },
   "file_extension": ".py",
   "mimetype": "text/x-python",
   "name": "python",
   "nbconvert_exporter": "python",
   "pygments_lexer": "ipython3",
   "version": "3.6.0"
  }
 },
 "nbformat": 4,
 "nbformat_minor": 2
}
